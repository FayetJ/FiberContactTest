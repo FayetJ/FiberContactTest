{
 "cells": [
  {
   "cell_type": "code",
   "execution_count": null,
   "id": "71aa43d6-98c9-4552-a9cd-d65784eef882",
   "metadata": {},
   "outputs": [],
   "source": [
    "# File: noodle.ipynb\n",
    "# Author: Ryoichi Ando (ryoichi.ando@zozo.com)\n",
    "# License: Apache v2.0"
   ]
  },
  {
   "cell_type": "code",
   "execution_count": 276,
   "id": "33a15148-7429-4f33-8445-9487b0d9180e",
   "metadata": {},
   "outputs": [
    {
     "name": "stderr",
     "output_type": "stream",
     "text": [
      "fatal: not a git repository (or any of the parent directories): .git\n",
      "fatal: not a git repository (or any of the parent directories): .git\n",
      "build scene: 100%|███████████████████| 11/11 [00:00<00:00, 736.34it/s]\n"
     ]
    },
    {
     "data": {
      "text/html": [
       "<table border=\"1\" class=\"dataframe table\">\n",
       "  <thead>\n",
       "    <tr style=\"text-align: right;\">\n",
       "      <th>#vert</th>\n",
       "      <th>#rod</th>\n",
       "      <th>#tri</th>\n",
       "      <th>#pin</th>\n",
       "      <th>#static_vert</th>\n",
       "      <th>#static_tri</th>\n",
       "    </tr>\n",
       "  </thead>\n",
       "  <tbody>\n",
       "    <tr>\n",
       "      <td>1,569</td>\n",
       "      <td>960</td>\n",
       "      <td>380</td>\n",
       "      <td>609</td>\n",
       "      <td>908</td>\n",
       "      <td>604</td>\n",
       "    </tr>\n",
       "  </tbody>\n",
       "</table>"
      ],
      "text/plain": [
       "<IPython.core.display.HTML object>"
      ]
     },
     "metadata": {},
     "output_type": "display_data"
    },
    {
     "data": {
      "application/vnd.jupyter.widget-view+json": {
       "model_id": "d3d0b5c261404a0196227a267af5335d",
       "version_major": 2,
       "version_minor": 0
      },
      "text/plain": [
       "Renderer(camera=PerspectiveCamera(children=(DirectionalLight(position=(0.0, 25.00592041015625, 31.257400512695…"
      ]
     },
     "metadata": {},
     "output_type": "display_data"
    },
    {
     "data": {
      "application/vnd.jupyter.widget-view+json": {
       "model_id": "7b457464d5984a689518bd6d04782142",
       "version_major": 2,
       "version_minor": 0
      },
      "text/plain": [
       "interactive(children=(FloatSlider(value=0.0, description='time', max=3.0, step=0.01), Output()), _dom_classes=…"
      ]
     },
     "metadata": {},
     "output_type": "display_data"
    },
    {
     "data": {
      "text/plain": [
       "<frontend._plot_.Plot at 0x7fab93ae72c0>"
      ]
     },
     "execution_count": 276,
     "metadata": {},
     "output_type": "execute_result"
    }
   ],
   "source": [
    "import os\n",
    "import random\n",
    "import numpy as np\n",
    "\n",
    "from frontend import App\n",
    "app = App.create(\"noodle\")\n",
    "\n",
    "\n",
    "#bc = []\n",
    "#bc.append((1.0, 2.5, 3.0))\n",
    "#bc.append((0, 2.5, 3.0))\n",
    "#bc.append((2, 2.5, 3.0))\n",
    "\n",
    "bc = [\n",
    "    [-0.20, 0.1, 0.60],\n",
    "    [-0.14, 0.1, 0.29],\n",
    "    [0.03, 0.1, 0.03],\n",
    "    [0.29, 0.1, -0.14],\n",
    "    [0.60, 0.1, -0.20],\n",
    "    [0.91, 0.1, -0.14],\n",
    "    [1.17, 0.1, 0.03],\n",
    "    [1.34, 0.1, 0.29],\n",
    "    [1.40, 0.1, 0.60],\n",
    "    [1.34, 0.1, 0.91],\n",
    "    [1.17, 0.1, 1.17],\n",
    "    [0.91, 0.1, 1.34],\n",
    "    [0.60, 0.1, 1.40],\n",
    "    [0.29, 0.1, 1.34],\n",
    "    [0.03, 0.1, 1.17],\n",
    "    [-0.14, 0.1, 0.91]\n",
    "]\n",
    "\n",
    "\n",
    "\n",
    "model_root = \"/tmp/objModels\"\n",
    "checkout_list = [\n",
    "    \"Models\",\n",
    "]\n",
    "app.extra.sparse_clone(\n",
    "    \"https://github.com/FayetJ/FiberContactTest\", model_root, checkout_list\n",
    ")\n",
    "\n",
    "bushing_path = os.path.join(model_root, checkout_list[0], \"Bushing.obj\")\n",
    "tcp_end_path = os.path.join(model_root, checkout_list[0], \"TcpEnd.obj\")\n",
    "\n",
    "V, E = app.mesh.line([0, 0.01, 0], [1.5, 25, 0], 960)\n",
    "app.asset.add.rod(\"strand\", V, E)\n",
    "V, E = app.mesh.line([0, 0, 0], [0, 1, 0], 10)\n",
    "app.asset.add.rod(\"repere\", V, E)\n",
    "\n",
    "scene = app.scene.create()\n",
    "scene.add.invisible.wall([0, 0, 0], [0, 1, 0])\n",
    "\n",
    "\n",
    "N, scale = 1, 0.05\n",
    "x = -0.68\n",
    "y = 3\n",
    "\n",
    "bclen = len(bc)\n",
    "\n",
    "#for i in range(bclen):\n",
    "#    scene.add(\"repere\").at(bc[i][0],bc[i][1],bc[i][2])\n",
    "\n",
    "\n",
    "obj = scene.add(\"strand\").at(x, 0, y).jitter()\n",
    "(\n",
    "    obj.param.set(\"bend\", 6)\n",
    "    .set(\"contact-gap\", 3e-3)\n",
    "    .set(\"contact-offset\", 3e-3)\n",
    "    .set(\"young-mod\", 1e6)\n",
    "    .set(\"friction\", 0.02)\n",
    ")\n",
    "\n",
    "barpin = obj.pin(obj.grab([0,-1,0]))\n",
    "#obj.pin(obj.grab([0,1,0])).move_by([0,-2,0],0.5)\n",
    "\n",
    "V, F = app.mesh.load_tri(bushing_path)\n",
    "app.asset.add.tri(\"bushing_body\", V, F)\n",
    "\n",
    "bushing_body = scene.add(\"bushing_body\").at(0,0,0)\n",
    "bushing_body.scale(0.05)\n",
    "bushing_body.param.set(\"model\",\"arap\")\n",
    "\n",
    "pin = bushing_body.pin()\n",
    "\n",
    "V, F = app.mesh.load_tri(tcp_end_path)\n",
    "app.asset.add.tri(\"tcp_end_body\", V, F)\n",
    "\n",
    "tcp_end_body = scene.add(\"tcp_end_body\").at(-1.25,0.5,2.45)\n",
    "tcp_end_body.scale(0.1)\n",
    "tcp_end_body.param.set(\"model\",\"arap\")\n",
    "pin2 = tcp_end_body.pin()\n",
    "\n",
    "#barpin.move_by([0,0,-4],2)\n",
    "barpin.interp(\"linear\")\n",
    "\n",
    "nCycles = 10\n",
    "offset = 0.8/nCycles\n",
    "timeOffset = 2\n",
    "interpTimeOffset = 0.2\n",
    "\n",
    "#barpin.move_to([[0.0,0,0]],3.0)\n",
    "#print(V)\n",
    "\n",
    "vlen = len(V)\n",
    "offset=1\n",
    "\n",
    "#for i in range(vlen):\n",
    "#    V[i][0] = V[i][0]+1\n",
    "#    V[i][2] = V[i][2]+1\n",
    "\n",
    "pin2.move_by([0,1,0],3)\n",
    "\n",
    "for j in range(nCycles):\n",
    "    for i in range(bclen):\n",
    "    #barpin.move_to([[bc[i][0],bc[i][1],bc[i][2]]],i)\n",
    "        currentx = bc[i][0]\n",
    "        currentz = bc[i][2]\n",
    "    \n",
    "        #pin2.move_to([[currentx-x,0.1+offset*j,currentz-y]],(i+j*bclen)*interpTimeOffset+timeOffset)\n",
    "\n",
    "        \n",
    "    #barpin.move_to([[0,0,0]],i)\n",
    "    \n",
    "#barpin.move_to([[0.0,0.3,-2.0]],1.0)\n",
    "#barpin.move_to([[2,0.3,-4.0]],2.0)\n",
    "#barpin.move_to([[0.0,0.0,10.0]],10.0)\n",
    "#pin.move_by([0,0.1,0],5)\n",
    "\n",
    "#opts = {\"lookat\": [0, 0.25, 0], \"eyeup\": 1.0, \"fov\": 4}\n",
    "scene = scene.build().report()\n",
    "scene.preview(options=opts)"
   ]
  },
  {
   "cell_type": "code",
   "execution_count": 277,
   "id": "fed21b38-09ee-4557-8d19-6c413ab5872c",
   "metadata": {},
   "outputs": [
    {
     "name": "stderr",
     "output_type": "stream",
     "text": [
      "build session: 100%|█████████████████| 14/14 [00:00<00:00, 777.75it/s]\n"
     ]
    }
   ],
   "source": [
    "session = app.session.create(scene)\n",
    "(\n",
    "    session.param.set(\"frames\", 2400)\n",
    "    .set(\"fix-xz\", 1)\n",
    "    .set(\"isotropic-air-friction\", 1e-5)\n",
    "    .set(\"gravity\", 3)\n",
    "    .set(\"dt\",0.005)\n",
    ")\n",
    "session = session.build()"
   ]
  },
  {
   "cell_type": "code",
   "execution_count": 278,
   "id": "a0b681a5-02ca-4211-acb6-51ca3aa74363",
   "metadata": {},
   "outputs": [
    {
     "data": {
      "application/vnd.jupyter.widget-view+json": {
       "model_id": "7312b937a5b14f229699996eff4ba8a5",
       "version_major": 2,
       "version_minor": 0
      },
      "text/plain": [
       "Renderer(camera=PerspectiveCamera(children=(DirectionalLight(position=(0.0, 25.00592041015625, 31.257400512695…"
      ]
     },
     "metadata": {},
     "output_type": "display_data"
    },
    {
     "data": {
      "application/vnd.jupyter.widget-view+json": {
       "model_id": "c259efdbdf9c40bcbecb76d468ed4018",
       "version_major": 2,
       "version_minor": 0
      },
      "text/plain": [
       "HTML(value='')"
      ]
     },
     "metadata": {},
     "output_type": "display_data"
    },
    {
     "data": {
      "application/vnd.jupyter.widget-view+json": {
       "model_id": "6d365fa4c0e24bf5a30faa1a038eb6d0",
       "version_major": 2,
       "version_minor": 0
      },
      "text/plain": [
       "HTML(value='')"
      ]
     },
     "metadata": {},
     "output_type": "display_data"
    },
    {
     "data": {
      "application/vnd.jupyter.widget-view+json": {
       "model_id": "17ebcd3dbf3e4f18ab5a52adb09f97b7",
       "version_major": 2,
       "version_minor": 0
      },
      "text/plain": [
       "HBox(children=(Button(description='Stop Live Stream', style=ButtonStyle()), Button(description='Terminate Solv…"
      ]
     },
     "metadata": {},
     "output_type": "display_data"
    },
    {
     "data": {
      "text/plain": [
       "<frontend._session_.FixedSession at 0x7fab98079610>"
      ]
     },
     "execution_count": 278,
     "metadata": {},
     "output_type": "execute_result"
    }
   ],
   "source": [
    "session.start().preview(options=opts)\n",
    "session.stream()"
   ]
  },
  {
   "cell_type": "code",
   "execution_count": 83,
   "id": "06dfc048-e0c5-49a5-b2b8-b9ff26d08766",
   "metadata": {},
   "outputs": [
    {
     "data": {
      "application/vnd.jupyter.widget-view+json": {
       "model_id": "db209f447fce4d76ab00f56072ed6b6d",
       "version_major": 2,
       "version_minor": 0
      },
      "text/plain": [
       "Renderer(camera=PerspectiveCamera(children=(DirectionalLight(position=(0.0, 50.00094985961914, 62.501186370849…"
      ]
     },
     "metadata": {},
     "output_type": "display_data"
    },
    {
     "name": "stderr",
     "output_type": "stream",
     "text": [
      "\n",
      "Loading frames: 100%|███████████████| 10/10 [00:00<00:00, 7444.63it/s]\u001b[A\n"
     ]
    },
    {
     "data": {
      "application/vnd.jupyter.widget-view+json": {
       "model_id": "5284bc4638774286bfd7173d3397d8ab",
       "version_major": 2,
       "version_minor": 0
      },
      "text/plain": [
       "interactive(children=(IntSlider(value=1, description='frame', max=10, min=1), Output()), _dom_classes=('widget…"
      ]
     },
     "metadata": {},
     "output_type": "display_data"
    },
    {
     "data": {
      "text/plain": [
       "<frontend._session_.FixedSession at 0x7fab9bbb6cf0>"
      ]
     },
     "execution_count": 83,
     "metadata": {},
     "output_type": "execute_result"
    }
   ],
   "source": [
    "session.animate(options=opts)"
   ]
  },
  {
   "cell_type": "code",
   "execution_count": null,
   "id": "1e4e3a0e-abda-4695-900d-48db50b03f34",
   "metadata": {},
   "outputs": [],
   "source": [
    "session.export.animation()"
   ]
  },
  {
   "cell_type": "code",
   "execution_count": null,
   "id": "c8e2432d-7328-4d73-afbb-159ae5cff76d",
   "metadata": {},
   "outputs": [],
   "source": [
    "# this is for CI\n",
    "assert session.finished()"
   ]
  }
 ],
 "metadata": {
  "kernelspec": {
   "display_name": "Python 3 (ipykernel)",
   "language": "python",
   "name": "python3"
  },
  "language_info": {
   "codemirror_mode": {
    "name": "ipython",
    "version": 3
   },
   "file_extension": ".py",
   "mimetype": "text/x-python",
   "name": "python",
   "nbconvert_exporter": "python",
   "pygments_lexer": "ipython3",
   "version": "3.12.3"
  }
 },
 "nbformat": 4,
 "nbformat_minor": 5
}
